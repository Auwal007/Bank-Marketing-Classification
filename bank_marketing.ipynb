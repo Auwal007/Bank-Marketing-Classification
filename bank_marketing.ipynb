{
  "cells": [
    {
      "cell_type": "code",
      "execution_count": null,
      "metadata": {
        "id": "dLE3m3z_KuZP"
      },
      "outputs": [],
      "source": [
        "import pandas as pd\n",
        "import numpy as np\n",
        "import matplotlib.pyplot as plt\n",
        "import seaborn as sns"
      ]
    },
    {
      "cell_type": "code",
      "source": [
        "# Regular EDA and plotting libraries\n",
        "import numpy as np # np is short for numpy\n",
        "import pandas as pd # pandas is so commonly used, it's shortened to pd\n",
        "import matplotlib.pyplot as plt\n",
        "import seaborn as sns # seaborn gets shortened to sns\n",
        "\n",
        "# We want our plots to appear in the notebook\n",
        "%matplotlib inline\n",
        "\n",
        "## Models\n",
        "from sklearn.linear_model import LogisticRegression\n",
        "from sklearn.neighbors import KNeighborsClassifier\n",
        "from sklearn.ensemble import RandomForestClassifier\n",
        "\n",
        "## Model evaluators\n",
        "from sklearn.model_selection import train_test_split, cross_val_score\n",
        "from sklearn.model_selection import RandomizedSearchCV, GridSearchCV\n",
        "from sklearn.metrics import confusion_matrix, classification_report\n",
        "from sklearn.metrics import precision_score, recall_score, f1_score\n",
        "# from sklearn.metrics import plot_roc_curve # note: this was changed in Scikit-Learn 1.2+ to be \"RocCurveDisplay\" (see below)\n",
        "from sklearn.metrics import RocCurveDisplay # new in Scikit-Learn 1.2+"
      ],
      "metadata": {
        "id": "8BqAKg9pPrup"
      },
      "execution_count": null,
      "outputs": []
    },
    {
      "cell_type": "markdown",
      "metadata": {
        "id": "aQCob5WtLCjD"
      },
      "source": [
        "## Load the data"
      ]
    },
    {
      "cell_type": "code",
      "execution_count": null,
      "metadata": {
        "colab": {
          "base_uri": "https://localhost:8080/"
        },
        "id": "gP2v35pg-5c0",
        "outputId": "9a1d1f7e-82b3-427e-add7-9dcb7d5e4df1"
      },
      "outputs": [
        {
          "output_type": "stream",
          "name": "stdout",
          "text": [
            "Drive already mounted at /content/drive; to attempt to forcibly remount, call drive.mount(\"/content/drive\", force_remount=True).\n"
          ]
        }
      ],
      "source": [
        "from google.colab import drive\n",
        "drive.mount('/content/drive')\n",
        "\n"
      ]
    },
    {
      "cell_type": "code",
      "execution_count": null,
      "metadata": {
        "id": "P1fThEfp_D3C"
      },
      "outputs": [],
      "source": [
        "path = '/content/drive/MyDrive/Datasets/bank.csv'\n",
        "import pandas as pd\n",
        "df = pd.read_csv(path, delimiter=';')\n"
      ]
    },
    {
      "cell_type": "markdown",
      "metadata": {
        "id": "QnFiXupUK7On"
      },
      "source": []
    },
    {
      "cell_type": "code",
      "execution_count": null,
      "metadata": {
        "colab": {
          "base_uri": "https://localhost:8080/",
          "height": 206
        },
        "id": "7hcf216xArAs",
        "outputId": "5a9cd2ef-9284-4f3e-80b3-c3c0823ad670"
      },
      "outputs": [
        {
          "output_type": "execute_result",
          "data": {
            "text/plain": [
              "   age          job  marital  education default  balance housing loan  \\\n",
              "0   30   unemployed  married    primary      no     1787      no   no   \n",
              "1   33     services  married  secondary      no     4789     yes  yes   \n",
              "2   35   management   single   tertiary      no     1350     yes   no   \n",
              "3   30   management  married   tertiary      no     1476     yes  yes   \n",
              "4   59  blue-collar  married  secondary      no        0     yes   no   \n",
              "\n",
              "    contact  day month  duration  campaign  pdays  previous poutcome   y  \n",
              "0  cellular   19   oct        79         1     -1         0  unknown  no  \n",
              "1  cellular   11   may       220         1    339         4  failure  no  \n",
              "2  cellular   16   apr       185         1    330         1  failure  no  \n",
              "3   unknown    3   jun       199         4     -1         0  unknown  no  \n",
              "4   unknown    5   may       226         1     -1         0  unknown  no  "
            ],
            "text/html": [
              "\n",
              "  <div id=\"df-aeb195f9-4698-4cbf-99a3-6037cc46219c\" class=\"colab-df-container\">\n",
              "    <div>\n",
              "<style scoped>\n",
              "    .dataframe tbody tr th:only-of-type {\n",
              "        vertical-align: middle;\n",
              "    }\n",
              "\n",
              "    .dataframe tbody tr th {\n",
              "        vertical-align: top;\n",
              "    }\n",
              "\n",
              "    .dataframe thead th {\n",
              "        text-align: right;\n",
              "    }\n",
              "</style>\n",
              "<table border=\"1\" class=\"dataframe\">\n",
              "  <thead>\n",
              "    <tr style=\"text-align: right;\">\n",
              "      <th></th>\n",
              "      <th>age</th>\n",
              "      <th>job</th>\n",
              "      <th>marital</th>\n",
              "      <th>education</th>\n",
              "      <th>default</th>\n",
              "      <th>balance</th>\n",
              "      <th>housing</th>\n",
              "      <th>loan</th>\n",
              "      <th>contact</th>\n",
              "      <th>day</th>\n",
              "      <th>month</th>\n",
              "      <th>duration</th>\n",
              "      <th>campaign</th>\n",
              "      <th>pdays</th>\n",
              "      <th>previous</th>\n",
              "      <th>poutcome</th>\n",
              "      <th>y</th>\n",
              "    </tr>\n",
              "  </thead>\n",
              "  <tbody>\n",
              "    <tr>\n",
              "      <th>0</th>\n",
              "      <td>30</td>\n",
              "      <td>unemployed</td>\n",
              "      <td>married</td>\n",
              "      <td>primary</td>\n",
              "      <td>no</td>\n",
              "      <td>1787</td>\n",
              "      <td>no</td>\n",
              "      <td>no</td>\n",
              "      <td>cellular</td>\n",
              "      <td>19</td>\n",
              "      <td>oct</td>\n",
              "      <td>79</td>\n",
              "      <td>1</td>\n",
              "      <td>-1</td>\n",
              "      <td>0</td>\n",
              "      <td>unknown</td>\n",
              "      <td>no</td>\n",
              "    </tr>\n",
              "    <tr>\n",
              "      <th>1</th>\n",
              "      <td>33</td>\n",
              "      <td>services</td>\n",
              "      <td>married</td>\n",
              "      <td>secondary</td>\n",
              "      <td>no</td>\n",
              "      <td>4789</td>\n",
              "      <td>yes</td>\n",
              "      <td>yes</td>\n",
              "      <td>cellular</td>\n",
              "      <td>11</td>\n",
              "      <td>may</td>\n",
              "      <td>220</td>\n",
              "      <td>1</td>\n",
              "      <td>339</td>\n",
              "      <td>4</td>\n",
              "      <td>failure</td>\n",
              "      <td>no</td>\n",
              "    </tr>\n",
              "    <tr>\n",
              "      <th>2</th>\n",
              "      <td>35</td>\n",
              "      <td>management</td>\n",
              "      <td>single</td>\n",
              "      <td>tertiary</td>\n",
              "      <td>no</td>\n",
              "      <td>1350</td>\n",
              "      <td>yes</td>\n",
              "      <td>no</td>\n",
              "      <td>cellular</td>\n",
              "      <td>16</td>\n",
              "      <td>apr</td>\n",
              "      <td>185</td>\n",
              "      <td>1</td>\n",
              "      <td>330</td>\n",
              "      <td>1</td>\n",
              "      <td>failure</td>\n",
              "      <td>no</td>\n",
              "    </tr>\n",
              "    <tr>\n",
              "      <th>3</th>\n",
              "      <td>30</td>\n",
              "      <td>management</td>\n",
              "      <td>married</td>\n",
              "      <td>tertiary</td>\n",
              "      <td>no</td>\n",
              "      <td>1476</td>\n",
              "      <td>yes</td>\n",
              "      <td>yes</td>\n",
              "      <td>unknown</td>\n",
              "      <td>3</td>\n",
              "      <td>jun</td>\n",
              "      <td>199</td>\n",
              "      <td>4</td>\n",
              "      <td>-1</td>\n",
              "      <td>0</td>\n",
              "      <td>unknown</td>\n",
              "      <td>no</td>\n",
              "    </tr>\n",
              "    <tr>\n",
              "      <th>4</th>\n",
              "      <td>59</td>\n",
              "      <td>blue-collar</td>\n",
              "      <td>married</td>\n",
              "      <td>secondary</td>\n",
              "      <td>no</td>\n",
              "      <td>0</td>\n",
              "      <td>yes</td>\n",
              "      <td>no</td>\n",
              "      <td>unknown</td>\n",
              "      <td>5</td>\n",
              "      <td>may</td>\n",
              "      <td>226</td>\n",
              "      <td>1</td>\n",
              "      <td>-1</td>\n",
              "      <td>0</td>\n",
              "      <td>unknown</td>\n",
              "      <td>no</td>\n",
              "    </tr>\n",
              "  </tbody>\n",
              "</table>\n",
              "</div>\n",
              "    <div class=\"colab-df-buttons\">\n",
              "\n",
              "  <div class=\"colab-df-container\">\n",
              "    <button class=\"colab-df-convert\" onclick=\"convertToInteractive('df-aeb195f9-4698-4cbf-99a3-6037cc46219c')\"\n",
              "            title=\"Convert this dataframe to an interactive table.\"\n",
              "            style=\"display:none;\">\n",
              "\n",
              "  <svg xmlns=\"http://www.w3.org/2000/svg\" height=\"24px\" viewBox=\"0 -960 960 960\">\n",
              "    <path d=\"M120-120v-720h720v720H120Zm60-500h600v-160H180v160Zm220 220h160v-160H400v160Zm0 220h160v-160H400v160ZM180-400h160v-160H180v160Zm440 0h160v-160H620v160ZM180-180h160v-160H180v160Zm440 0h160v-160H620v160Z\"/>\n",
              "  </svg>\n",
              "    </button>\n",
              "\n",
              "  <style>\n",
              "    .colab-df-container {\n",
              "      display:flex;\n",
              "      gap: 12px;\n",
              "    }\n",
              "\n",
              "    .colab-df-convert {\n",
              "      background-color: #E8F0FE;\n",
              "      border: none;\n",
              "      border-radius: 50%;\n",
              "      cursor: pointer;\n",
              "      display: none;\n",
              "      fill: #1967D2;\n",
              "      height: 32px;\n",
              "      padding: 0 0 0 0;\n",
              "      width: 32px;\n",
              "    }\n",
              "\n",
              "    .colab-df-convert:hover {\n",
              "      background-color: #E2EBFA;\n",
              "      box-shadow: 0px 1px 2px rgba(60, 64, 67, 0.3), 0px 1px 3px 1px rgba(60, 64, 67, 0.15);\n",
              "      fill: #174EA6;\n",
              "    }\n",
              "\n",
              "    .colab-df-buttons div {\n",
              "      margin-bottom: 4px;\n",
              "    }\n",
              "\n",
              "    [theme=dark] .colab-df-convert {\n",
              "      background-color: #3B4455;\n",
              "      fill: #D2E3FC;\n",
              "    }\n",
              "\n",
              "    [theme=dark] .colab-df-convert:hover {\n",
              "      background-color: #434B5C;\n",
              "      box-shadow: 0px 1px 3px 1px rgba(0, 0, 0, 0.15);\n",
              "      filter: drop-shadow(0px 1px 2px rgba(0, 0, 0, 0.3));\n",
              "      fill: #FFFFFF;\n",
              "    }\n",
              "  </style>\n",
              "\n",
              "    <script>\n",
              "      const buttonEl =\n",
              "        document.querySelector('#df-aeb195f9-4698-4cbf-99a3-6037cc46219c button.colab-df-convert');\n",
              "      buttonEl.style.display =\n",
              "        google.colab.kernel.accessAllowed ? 'block' : 'none';\n",
              "\n",
              "      async function convertToInteractive(key) {\n",
              "        const element = document.querySelector('#df-aeb195f9-4698-4cbf-99a3-6037cc46219c');\n",
              "        const dataTable =\n",
              "          await google.colab.kernel.invokeFunction('convertToInteractive',\n",
              "                                                    [key], {});\n",
              "        if (!dataTable) return;\n",
              "\n",
              "        const docLinkHtml = 'Like what you see? Visit the ' +\n",
              "          '<a target=\"_blank\" href=https://colab.research.google.com/notebooks/data_table.ipynb>data table notebook</a>'\n",
              "          + ' to learn more about interactive tables.';\n",
              "        element.innerHTML = '';\n",
              "        dataTable['output_type'] = 'display_data';\n",
              "        await google.colab.output.renderOutput(dataTable, element);\n",
              "        const docLink = document.createElement('div');\n",
              "        docLink.innerHTML = docLinkHtml;\n",
              "        element.appendChild(docLink);\n",
              "      }\n",
              "    </script>\n",
              "  </div>\n",
              "\n",
              "\n",
              "    <div id=\"df-0548325d-e18a-4f85-9bf8-cb9ee2bd363e\">\n",
              "      <button class=\"colab-df-quickchart\" onclick=\"quickchart('df-0548325d-e18a-4f85-9bf8-cb9ee2bd363e')\"\n",
              "                title=\"Suggest charts\"\n",
              "                style=\"display:none;\">\n",
              "\n",
              "<svg xmlns=\"http://www.w3.org/2000/svg\" height=\"24px\"viewBox=\"0 0 24 24\"\n",
              "     width=\"24px\">\n",
              "    <g>\n",
              "        <path d=\"M19 3H5c-1.1 0-2 .9-2 2v14c0 1.1.9 2 2 2h14c1.1 0 2-.9 2-2V5c0-1.1-.9-2-2-2zM9 17H7v-7h2v7zm4 0h-2V7h2v10zm4 0h-2v-4h2v4z\"/>\n",
              "    </g>\n",
              "</svg>\n",
              "      </button>\n",
              "\n",
              "<style>\n",
              "  .colab-df-quickchart {\n",
              "      --bg-color: #E8F0FE;\n",
              "      --fill-color: #1967D2;\n",
              "      --hover-bg-color: #E2EBFA;\n",
              "      --hover-fill-color: #174EA6;\n",
              "      --disabled-fill-color: #AAA;\n",
              "      --disabled-bg-color: #DDD;\n",
              "  }\n",
              "\n",
              "  [theme=dark] .colab-df-quickchart {\n",
              "      --bg-color: #3B4455;\n",
              "      --fill-color: #D2E3FC;\n",
              "      --hover-bg-color: #434B5C;\n",
              "      --hover-fill-color: #FFFFFF;\n",
              "      --disabled-bg-color: #3B4455;\n",
              "      --disabled-fill-color: #666;\n",
              "  }\n",
              "\n",
              "  .colab-df-quickchart {\n",
              "    background-color: var(--bg-color);\n",
              "    border: none;\n",
              "    border-radius: 50%;\n",
              "    cursor: pointer;\n",
              "    display: none;\n",
              "    fill: var(--fill-color);\n",
              "    height: 32px;\n",
              "    padding: 0;\n",
              "    width: 32px;\n",
              "  }\n",
              "\n",
              "  .colab-df-quickchart:hover {\n",
              "    background-color: var(--hover-bg-color);\n",
              "    box-shadow: 0 1px 2px rgba(60, 64, 67, 0.3), 0 1px 3px 1px rgba(60, 64, 67, 0.15);\n",
              "    fill: var(--button-hover-fill-color);\n",
              "  }\n",
              "\n",
              "  .colab-df-quickchart-complete:disabled,\n",
              "  .colab-df-quickchart-complete:disabled:hover {\n",
              "    background-color: var(--disabled-bg-color);\n",
              "    fill: var(--disabled-fill-color);\n",
              "    box-shadow: none;\n",
              "  }\n",
              "\n",
              "  .colab-df-spinner {\n",
              "    border: 2px solid var(--fill-color);\n",
              "    border-color: transparent;\n",
              "    border-bottom-color: var(--fill-color);\n",
              "    animation:\n",
              "      spin 1s steps(1) infinite;\n",
              "  }\n",
              "\n",
              "  @keyframes spin {\n",
              "    0% {\n",
              "      border-color: transparent;\n",
              "      border-bottom-color: var(--fill-color);\n",
              "      border-left-color: var(--fill-color);\n",
              "    }\n",
              "    20% {\n",
              "      border-color: transparent;\n",
              "      border-left-color: var(--fill-color);\n",
              "      border-top-color: var(--fill-color);\n",
              "    }\n",
              "    30% {\n",
              "      border-color: transparent;\n",
              "      border-left-color: var(--fill-color);\n",
              "      border-top-color: var(--fill-color);\n",
              "      border-right-color: var(--fill-color);\n",
              "    }\n",
              "    40% {\n",
              "      border-color: transparent;\n",
              "      border-right-color: var(--fill-color);\n",
              "      border-top-color: var(--fill-color);\n",
              "    }\n",
              "    60% {\n",
              "      border-color: transparent;\n",
              "      border-right-color: var(--fill-color);\n",
              "    }\n",
              "    80% {\n",
              "      border-color: transparent;\n",
              "      border-right-color: var(--fill-color);\n",
              "      border-bottom-color: var(--fill-color);\n",
              "    }\n",
              "    90% {\n",
              "      border-color: transparent;\n",
              "      border-bottom-color: var(--fill-color);\n",
              "    }\n",
              "  }\n",
              "</style>\n",
              "\n",
              "      <script>\n",
              "        async function quickchart(key) {\n",
              "          const quickchartButtonEl =\n",
              "            document.querySelector('#' + key + ' button');\n",
              "          quickchartButtonEl.disabled = true;  // To prevent multiple clicks.\n",
              "          quickchartButtonEl.classList.add('colab-df-spinner');\n",
              "          try {\n",
              "            const charts = await google.colab.kernel.invokeFunction(\n",
              "                'suggestCharts', [key], {});\n",
              "          } catch (error) {\n",
              "            console.error('Error during call to suggestCharts:', error);\n",
              "          }\n",
              "          quickchartButtonEl.classList.remove('colab-df-spinner');\n",
              "          quickchartButtonEl.classList.add('colab-df-quickchart-complete');\n",
              "        }\n",
              "        (() => {\n",
              "          let quickchartButtonEl =\n",
              "            document.querySelector('#df-0548325d-e18a-4f85-9bf8-cb9ee2bd363e button');\n",
              "          quickchartButtonEl.style.display =\n",
              "            google.colab.kernel.accessAllowed ? 'block' : 'none';\n",
              "        })();\n",
              "      </script>\n",
              "    </div>\n",
              "\n",
              "    </div>\n",
              "  </div>\n"
            ],
            "application/vnd.google.colaboratory.intrinsic+json": {
              "type": "dataframe",
              "variable_name": "df",
              "summary": "{\n  \"name\": \"df\",\n  \"rows\": 4521,\n  \"fields\": [\n    {\n      \"column\": \"age\",\n      \"properties\": {\n        \"dtype\": \"number\",\n        \"std\": 10,\n        \"min\": 19,\n        \"max\": 87,\n        \"num_unique_values\": 67,\n        \"samples\": [\n          50,\n          44,\n          36\n        ],\n        \"semantic_type\": \"\",\n        \"description\": \"\"\n      }\n    },\n    {\n      \"column\": \"job\",\n      \"properties\": {\n        \"dtype\": \"category\",\n        \"num_unique_values\": 12,\n        \"samples\": [\n          \"retired\",\n          \"housemaid\",\n          \"unemployed\"\n        ],\n        \"semantic_type\": \"\",\n        \"description\": \"\"\n      }\n    },\n    {\n      \"column\": \"marital\",\n      \"properties\": {\n        \"dtype\": \"category\",\n        \"num_unique_values\": 3,\n        \"samples\": [\n          \"married\",\n          \"single\",\n          \"divorced\"\n        ],\n        \"semantic_type\": \"\",\n        \"description\": \"\"\n      }\n    },\n    {\n      \"column\": \"education\",\n      \"properties\": {\n        \"dtype\": \"category\",\n        \"num_unique_values\": 4,\n        \"samples\": [\n          \"secondary\",\n          \"unknown\",\n          \"primary\"\n        ],\n        \"semantic_type\": \"\",\n        \"description\": \"\"\n      }\n    },\n    {\n      \"column\": \"default\",\n      \"properties\": {\n        \"dtype\": \"category\",\n        \"num_unique_values\": 2,\n        \"samples\": [\n          \"yes\",\n          \"no\"\n        ],\n        \"semantic_type\": \"\",\n        \"description\": \"\"\n      }\n    },\n    {\n      \"column\": \"balance\",\n      \"properties\": {\n        \"dtype\": \"number\",\n        \"std\": 3009,\n        \"min\": -3313,\n        \"max\": 71188,\n        \"num_unique_values\": 2353,\n        \"samples\": [\n          1988,\n          7010\n        ],\n        \"semantic_type\": \"\",\n        \"description\": \"\"\n      }\n    },\n    {\n      \"column\": \"housing\",\n      \"properties\": {\n        \"dtype\": \"category\",\n        \"num_unique_values\": 2,\n        \"samples\": [\n          \"yes\",\n          \"no\"\n        ],\n        \"semantic_type\": \"\",\n        \"description\": \"\"\n      }\n    },\n    {\n      \"column\": \"loan\",\n      \"properties\": {\n        \"dtype\": \"category\",\n        \"num_unique_values\": 2,\n        \"samples\": [\n          \"yes\",\n          \"no\"\n        ],\n        \"semantic_type\": \"\",\n        \"description\": \"\"\n      }\n    },\n    {\n      \"column\": \"contact\",\n      \"properties\": {\n        \"dtype\": \"category\",\n        \"num_unique_values\": 3,\n        \"samples\": [\n          \"cellular\",\n          \"unknown\"\n        ],\n        \"semantic_type\": \"\",\n        \"description\": \"\"\n      }\n    },\n    {\n      \"column\": \"day\",\n      \"properties\": {\n        \"dtype\": \"number\",\n        \"std\": 8,\n        \"min\": 1,\n        \"max\": 31,\n        \"num_unique_values\": 31,\n        \"samples\": [\n          10,\n          18\n        ],\n        \"semantic_type\": \"\",\n        \"description\": \"\"\n      }\n    },\n    {\n      \"column\": \"month\",\n      \"properties\": {\n        \"dtype\": \"category\",\n        \"num_unique_values\": 12,\n        \"samples\": [\n          \"mar\",\n          \"sep\"\n        ],\n        \"semantic_type\": \"\",\n        \"description\": \"\"\n      }\n    },\n    {\n      \"column\": \"duration\",\n      \"properties\": {\n        \"dtype\": \"number\",\n        \"std\": 259,\n        \"min\": 4,\n        \"max\": 3025,\n        \"num_unique_values\": 875,\n        \"samples\": [\n          1516,\n          722\n        ],\n        \"semantic_type\": \"\",\n        \"description\": \"\"\n      }\n    },\n    {\n      \"column\": \"campaign\",\n      \"properties\": {\n        \"dtype\": \"number\",\n        \"std\": 3,\n        \"min\": 1,\n        \"max\": 50,\n        \"num_unique_values\": 32,\n        \"samples\": [\n          28,\n          8\n        ],\n        \"semantic_type\": \"\",\n        \"description\": \"\"\n      }\n    },\n    {\n      \"column\": \"pdays\",\n      \"properties\": {\n        \"dtype\": \"number\",\n        \"std\": 100,\n        \"min\": -1,\n        \"max\": 871,\n        \"num_unique_values\": 292,\n        \"samples\": [\n          63,\n          385\n        ],\n        \"semantic_type\": \"\",\n        \"description\": \"\"\n      }\n    },\n    {\n      \"column\": \"previous\",\n      \"properties\": {\n        \"dtype\": \"number\",\n        \"std\": 1,\n        \"min\": 0,\n        \"max\": 25,\n        \"num_unique_values\": 24,\n        \"samples\": [\n          6,\n          11\n        ],\n        \"semantic_type\": \"\",\n        \"description\": \"\"\n      }\n    },\n    {\n      \"column\": \"poutcome\",\n      \"properties\": {\n        \"dtype\": \"category\",\n        \"num_unique_values\": 4,\n        \"samples\": [\n          \"failure\",\n          \"success\"\n        ],\n        \"semantic_type\": \"\",\n        \"description\": \"\"\n      }\n    },\n    {\n      \"column\": \"y\",\n      \"properties\": {\n        \"dtype\": \"category\",\n        \"num_unique_values\": 2,\n        \"samples\": [\n          \"yes\",\n          \"no\"\n        ],\n        \"semantic_type\": \"\",\n        \"description\": \"\"\n      }\n    }\n  ]\n}"
            }
          },
          "metadata": {},
          "execution_count": 6
        }
      ],
      "source": [
        "df.head()"
      ]
    },
    {
      "cell_type": "code",
      "execution_count": null,
      "metadata": {
        "colab": {
          "base_uri": "https://localhost:8080/"
        },
        "id": "lvaAoUhUBDzS",
        "outputId": "2e55b05e-af2e-4e2e-d503-1a92749b9790"
      },
      "outputs": [
        {
          "output_type": "execute_result",
          "data": {
            "text/plain": [
              "(4521, 17)"
            ]
          },
          "metadata": {},
          "execution_count": 7
        }
      ],
      "source": [
        "df.shape"
      ]
    },
    {
      "cell_type": "code",
      "execution_count": null,
      "metadata": {
        "colab": {
          "base_uri": "https://localhost:8080/"
        },
        "id": "IJhualpcBxAs",
        "outputId": "a16e0208-4539-4cad-926d-12e3304cd7e3"
      },
      "outputs": [
        {
          "output_type": "stream",
          "name": "stdout",
          "text": [
            "<class 'pandas.core.frame.DataFrame'>\n",
            "RangeIndex: 4521 entries, 0 to 4520\n",
            "Data columns (total 17 columns):\n",
            " #   Column     Non-Null Count  Dtype \n",
            "---  ------     --------------  ----- \n",
            " 0   age        4521 non-null   int64 \n",
            " 1   job        4521 non-null   object\n",
            " 2   marital    4521 non-null   object\n",
            " 3   education  4521 non-null   object\n",
            " 4   default    4521 non-null   object\n",
            " 5   balance    4521 non-null   int64 \n",
            " 6   housing    4521 non-null   object\n",
            " 7   loan       4521 non-null   object\n",
            " 8   contact    4521 non-null   object\n",
            " 9   day        4521 non-null   int64 \n",
            " 10  month      4521 non-null   object\n",
            " 11  duration   4521 non-null   int64 \n",
            " 12  campaign   4521 non-null   int64 \n",
            " 13  pdays      4521 non-null   int64 \n",
            " 14  previous   4521 non-null   int64 \n",
            " 15  poutcome   4521 non-null   object\n",
            " 16  y          4521 non-null   object\n",
            "dtypes: int64(7), object(10)\n",
            "memory usage: 600.6+ KB\n"
          ]
        }
      ],
      "source": [
        "df.info()"
      ]
    },
    {
      "cell_type": "code",
      "execution_count": null,
      "metadata": {
        "colab": {
          "base_uri": "https://localhost:8080/"
        },
        "id": "2THAyPzvKW4p",
        "outputId": "8ef59e0e-7bdf-406e-8f77-dfef8a17ef6d"
      },
      "outputs": [
        {
          "output_type": "stream",
          "name": "stdout",
          "text": [
            "job: ['unemployed' 'services' 'management' 'blue-collar' 'self-employed'\n",
            " 'technician' 'entrepreneur' 'admin.' 'student' 'housemaid' 'retired'\n",
            " 'unknown']\n",
            "marital: ['married' 'single' 'divorced']\n",
            "education: ['primary' 'secondary' 'tertiary' 'unknown']\n",
            "default: ['no' 'yes']\n",
            "housing: ['no' 'yes']\n",
            "loan: ['no' 'yes']\n",
            "contact: ['cellular' 'unknown' 'telephone']\n",
            "month: ['oct' 'may' 'apr' 'jun' 'feb' 'aug' 'jan' 'jul' 'nov' 'sep' 'mar' 'dec']\n",
            "poutcome: ['unknown' 'failure' 'other' 'success']\n",
            "y: ['no' 'yes']\n"
          ]
        }
      ],
      "source": [
        "obj_cols = df.select_dtypes(include='object')\n",
        "\n",
        "\n",
        "for col in obj_cols.columns:\n",
        "  print(f'{col}: {df[col].unique()}')"
      ]
    },
    {
      "cell_type": "code",
      "execution_count": null,
      "metadata": {
        "colab": {
          "base_uri": "https://localhost:8080/",
          "height": 178
        },
        "id": "YKgkjLFgMKp5",
        "outputId": "6a039600-f6d8-4928-8c7b-cbfe670692ba"
      },
      "outputs": [
        {
          "output_type": "execute_result",
          "data": {
            "text/plain": [
              "y\n",
              "no     0.88476\n",
              "yes    0.11524\n",
              "Name: proportion, dtype: float64"
            ],
            "text/html": [
              "<div>\n",
              "<style scoped>\n",
              "    .dataframe tbody tr th:only-of-type {\n",
              "        vertical-align: middle;\n",
              "    }\n",
              "\n",
              "    .dataframe tbody tr th {\n",
              "        vertical-align: top;\n",
              "    }\n",
              "\n",
              "    .dataframe thead th {\n",
              "        text-align: right;\n",
              "    }\n",
              "</style>\n",
              "<table border=\"1\" class=\"dataframe\">\n",
              "  <thead>\n",
              "    <tr style=\"text-align: right;\">\n",
              "      <th></th>\n",
              "      <th>proportion</th>\n",
              "    </tr>\n",
              "    <tr>\n",
              "      <th>y</th>\n",
              "      <th></th>\n",
              "    </tr>\n",
              "  </thead>\n",
              "  <tbody>\n",
              "    <tr>\n",
              "      <th>no</th>\n",
              "      <td>0.88476</td>\n",
              "    </tr>\n",
              "    <tr>\n",
              "      <th>yes</th>\n",
              "      <td>0.11524</td>\n",
              "    </tr>\n",
              "  </tbody>\n",
              "</table>\n",
              "</div><br><label><b>dtype:</b> float64</label>"
            ]
          },
          "metadata": {},
          "execution_count": 10
        }
      ],
      "source": [
        "df['y'].value_counts(normalize=True)"
      ]
    },
    {
      "cell_type": "code",
      "execution_count": null,
      "metadata": {
        "colab": {
          "base_uri": "https://localhost:8080/",
          "height": 300
        },
        "id": "VNzAZvlmM9Fy",
        "outputId": "7bb2e3d3-54aa-4050-a2b8-2fa80276472c"
      },
      "outputs": [
        {
          "output_type": "execute_result",
          "data": {
            "text/plain": [
              "               age       balance          day     duration     campaign  \\\n",
              "count  4521.000000   4521.000000  4521.000000  4521.000000  4521.000000   \n",
              "mean     41.170095   1422.657819    15.915284   263.961292     2.793630   \n",
              "std      10.576211   3009.638142     8.247667   259.856633     3.109807   \n",
              "min      19.000000  -3313.000000     1.000000     4.000000     1.000000   \n",
              "25%      33.000000     69.000000     9.000000   104.000000     1.000000   \n",
              "50%      39.000000    444.000000    16.000000   185.000000     2.000000   \n",
              "75%      49.000000   1480.000000    21.000000   329.000000     3.000000   \n",
              "max      87.000000  71188.000000    31.000000  3025.000000    50.000000   \n",
              "\n",
              "             pdays     previous  \n",
              "count  4521.000000  4521.000000  \n",
              "mean     39.766645     0.542579  \n",
              "std     100.121124     1.693562  \n",
              "min      -1.000000     0.000000  \n",
              "25%      -1.000000     0.000000  \n",
              "50%      -1.000000     0.000000  \n",
              "75%      -1.000000     0.000000  \n",
              "max     871.000000    25.000000  "
            ],
            "text/html": [
              "\n",
              "  <div id=\"df-d9b0a172-53b4-4418-aa02-35b73b1d8327\" class=\"colab-df-container\">\n",
              "    <div>\n",
              "<style scoped>\n",
              "    .dataframe tbody tr th:only-of-type {\n",
              "        vertical-align: middle;\n",
              "    }\n",
              "\n",
              "    .dataframe tbody tr th {\n",
              "        vertical-align: top;\n",
              "    }\n",
              "\n",
              "    .dataframe thead th {\n",
              "        text-align: right;\n",
              "    }\n",
              "</style>\n",
              "<table border=\"1\" class=\"dataframe\">\n",
              "  <thead>\n",
              "    <tr style=\"text-align: right;\">\n",
              "      <th></th>\n",
              "      <th>age</th>\n",
              "      <th>balance</th>\n",
              "      <th>day</th>\n",
              "      <th>duration</th>\n",
              "      <th>campaign</th>\n",
              "      <th>pdays</th>\n",
              "      <th>previous</th>\n",
              "    </tr>\n",
              "  </thead>\n",
              "  <tbody>\n",
              "    <tr>\n",
              "      <th>count</th>\n",
              "      <td>4521.000000</td>\n",
              "      <td>4521.000000</td>\n",
              "      <td>4521.000000</td>\n",
              "      <td>4521.000000</td>\n",
              "      <td>4521.000000</td>\n",
              "      <td>4521.000000</td>\n",
              "      <td>4521.000000</td>\n",
              "    </tr>\n",
              "    <tr>\n",
              "      <th>mean</th>\n",
              "      <td>41.170095</td>\n",
              "      <td>1422.657819</td>\n",
              "      <td>15.915284</td>\n",
              "      <td>263.961292</td>\n",
              "      <td>2.793630</td>\n",
              "      <td>39.766645</td>\n",
              "      <td>0.542579</td>\n",
              "    </tr>\n",
              "    <tr>\n",
              "      <th>std</th>\n",
              "      <td>10.576211</td>\n",
              "      <td>3009.638142</td>\n",
              "      <td>8.247667</td>\n",
              "      <td>259.856633</td>\n",
              "      <td>3.109807</td>\n",
              "      <td>100.121124</td>\n",
              "      <td>1.693562</td>\n",
              "    </tr>\n",
              "    <tr>\n",
              "      <th>min</th>\n",
              "      <td>19.000000</td>\n",
              "      <td>-3313.000000</td>\n",
              "      <td>1.000000</td>\n",
              "      <td>4.000000</td>\n",
              "      <td>1.000000</td>\n",
              "      <td>-1.000000</td>\n",
              "      <td>0.000000</td>\n",
              "    </tr>\n",
              "    <tr>\n",
              "      <th>25%</th>\n",
              "      <td>33.000000</td>\n",
              "      <td>69.000000</td>\n",
              "      <td>9.000000</td>\n",
              "      <td>104.000000</td>\n",
              "      <td>1.000000</td>\n",
              "      <td>-1.000000</td>\n",
              "      <td>0.000000</td>\n",
              "    </tr>\n",
              "    <tr>\n",
              "      <th>50%</th>\n",
              "      <td>39.000000</td>\n",
              "      <td>444.000000</td>\n",
              "      <td>16.000000</td>\n",
              "      <td>185.000000</td>\n",
              "      <td>2.000000</td>\n",
              "      <td>-1.000000</td>\n",
              "      <td>0.000000</td>\n",
              "    </tr>\n",
              "    <tr>\n",
              "      <th>75%</th>\n",
              "      <td>49.000000</td>\n",
              "      <td>1480.000000</td>\n",
              "      <td>21.000000</td>\n",
              "      <td>329.000000</td>\n",
              "      <td>3.000000</td>\n",
              "      <td>-1.000000</td>\n",
              "      <td>0.000000</td>\n",
              "    </tr>\n",
              "    <tr>\n",
              "      <th>max</th>\n",
              "      <td>87.000000</td>\n",
              "      <td>71188.000000</td>\n",
              "      <td>31.000000</td>\n",
              "      <td>3025.000000</td>\n",
              "      <td>50.000000</td>\n",
              "      <td>871.000000</td>\n",
              "      <td>25.000000</td>\n",
              "    </tr>\n",
              "  </tbody>\n",
              "</table>\n",
              "</div>\n",
              "    <div class=\"colab-df-buttons\">\n",
              "\n",
              "  <div class=\"colab-df-container\">\n",
              "    <button class=\"colab-df-convert\" onclick=\"convertToInteractive('df-d9b0a172-53b4-4418-aa02-35b73b1d8327')\"\n",
              "            title=\"Convert this dataframe to an interactive table.\"\n",
              "            style=\"display:none;\">\n",
              "\n",
              "  <svg xmlns=\"http://www.w3.org/2000/svg\" height=\"24px\" viewBox=\"0 -960 960 960\">\n",
              "    <path d=\"M120-120v-720h720v720H120Zm60-500h600v-160H180v160Zm220 220h160v-160H400v160Zm0 220h160v-160H400v160ZM180-400h160v-160H180v160Zm440 0h160v-160H620v160ZM180-180h160v-160H180v160Zm440 0h160v-160H620v160Z\"/>\n",
              "  </svg>\n",
              "    </button>\n",
              "\n",
              "  <style>\n",
              "    .colab-df-container {\n",
              "      display:flex;\n",
              "      gap: 12px;\n",
              "    }\n",
              "\n",
              "    .colab-df-convert {\n",
              "      background-color: #E8F0FE;\n",
              "      border: none;\n",
              "      border-radius: 50%;\n",
              "      cursor: pointer;\n",
              "      display: none;\n",
              "      fill: #1967D2;\n",
              "      height: 32px;\n",
              "      padding: 0 0 0 0;\n",
              "      width: 32px;\n",
              "    }\n",
              "\n",
              "    .colab-df-convert:hover {\n",
              "      background-color: #E2EBFA;\n",
              "      box-shadow: 0px 1px 2px rgba(60, 64, 67, 0.3), 0px 1px 3px 1px rgba(60, 64, 67, 0.15);\n",
              "      fill: #174EA6;\n",
              "    }\n",
              "\n",
              "    .colab-df-buttons div {\n",
              "      margin-bottom: 4px;\n",
              "    }\n",
              "\n",
              "    [theme=dark] .colab-df-convert {\n",
              "      background-color: #3B4455;\n",
              "      fill: #D2E3FC;\n",
              "    }\n",
              "\n",
              "    [theme=dark] .colab-df-convert:hover {\n",
              "      background-color: #434B5C;\n",
              "      box-shadow: 0px 1px 3px 1px rgba(0, 0, 0, 0.15);\n",
              "      filter: drop-shadow(0px 1px 2px rgba(0, 0, 0, 0.3));\n",
              "      fill: #FFFFFF;\n",
              "    }\n",
              "  </style>\n",
              "\n",
              "    <script>\n",
              "      const buttonEl =\n",
              "        document.querySelector('#df-d9b0a172-53b4-4418-aa02-35b73b1d8327 button.colab-df-convert');\n",
              "      buttonEl.style.display =\n",
              "        google.colab.kernel.accessAllowed ? 'block' : 'none';\n",
              "\n",
              "      async function convertToInteractive(key) {\n",
              "        const element = document.querySelector('#df-d9b0a172-53b4-4418-aa02-35b73b1d8327');\n",
              "        const dataTable =\n",
              "          await google.colab.kernel.invokeFunction('convertToInteractive',\n",
              "                                                    [key], {});\n",
              "        if (!dataTable) return;\n",
              "\n",
              "        const docLinkHtml = 'Like what you see? Visit the ' +\n",
              "          '<a target=\"_blank\" href=https://colab.research.google.com/notebooks/data_table.ipynb>data table notebook</a>'\n",
              "          + ' to learn more about interactive tables.';\n",
              "        element.innerHTML = '';\n",
              "        dataTable['output_type'] = 'display_data';\n",
              "        await google.colab.output.renderOutput(dataTable, element);\n",
              "        const docLink = document.createElement('div');\n",
              "        docLink.innerHTML = docLinkHtml;\n",
              "        element.appendChild(docLink);\n",
              "      }\n",
              "    </script>\n",
              "  </div>\n",
              "\n",
              "\n",
              "    <div id=\"df-306d7245-521d-4bbb-8131-fb8734b09df4\">\n",
              "      <button class=\"colab-df-quickchart\" onclick=\"quickchart('df-306d7245-521d-4bbb-8131-fb8734b09df4')\"\n",
              "                title=\"Suggest charts\"\n",
              "                style=\"display:none;\">\n",
              "\n",
              "<svg xmlns=\"http://www.w3.org/2000/svg\" height=\"24px\"viewBox=\"0 0 24 24\"\n",
              "     width=\"24px\">\n",
              "    <g>\n",
              "        <path d=\"M19 3H5c-1.1 0-2 .9-2 2v14c0 1.1.9 2 2 2h14c1.1 0 2-.9 2-2V5c0-1.1-.9-2-2-2zM9 17H7v-7h2v7zm4 0h-2V7h2v10zm4 0h-2v-4h2v4z\"/>\n",
              "    </g>\n",
              "</svg>\n",
              "      </button>\n",
              "\n",
              "<style>\n",
              "  .colab-df-quickchart {\n",
              "      --bg-color: #E8F0FE;\n",
              "      --fill-color: #1967D2;\n",
              "      --hover-bg-color: #E2EBFA;\n",
              "      --hover-fill-color: #174EA6;\n",
              "      --disabled-fill-color: #AAA;\n",
              "      --disabled-bg-color: #DDD;\n",
              "  }\n",
              "\n",
              "  [theme=dark] .colab-df-quickchart {\n",
              "      --bg-color: #3B4455;\n",
              "      --fill-color: #D2E3FC;\n",
              "      --hover-bg-color: #434B5C;\n",
              "      --hover-fill-color: #FFFFFF;\n",
              "      --disabled-bg-color: #3B4455;\n",
              "      --disabled-fill-color: #666;\n",
              "  }\n",
              "\n",
              "  .colab-df-quickchart {\n",
              "    background-color: var(--bg-color);\n",
              "    border: none;\n",
              "    border-radius: 50%;\n",
              "    cursor: pointer;\n",
              "    display: none;\n",
              "    fill: var(--fill-color);\n",
              "    height: 32px;\n",
              "    padding: 0;\n",
              "    width: 32px;\n",
              "  }\n",
              "\n",
              "  .colab-df-quickchart:hover {\n",
              "    background-color: var(--hover-bg-color);\n",
              "    box-shadow: 0 1px 2px rgba(60, 64, 67, 0.3), 0 1px 3px 1px rgba(60, 64, 67, 0.15);\n",
              "    fill: var(--button-hover-fill-color);\n",
              "  }\n",
              "\n",
              "  .colab-df-quickchart-complete:disabled,\n",
              "  .colab-df-quickchart-complete:disabled:hover {\n",
              "    background-color: var(--disabled-bg-color);\n",
              "    fill: var(--disabled-fill-color);\n",
              "    box-shadow: none;\n",
              "  }\n",
              "\n",
              "  .colab-df-spinner {\n",
              "    border: 2px solid var(--fill-color);\n",
              "    border-color: transparent;\n",
              "    border-bottom-color: var(--fill-color);\n",
              "    animation:\n",
              "      spin 1s steps(1) infinite;\n",
              "  }\n",
              "\n",
              "  @keyframes spin {\n",
              "    0% {\n",
              "      border-color: transparent;\n",
              "      border-bottom-color: var(--fill-color);\n",
              "      border-left-color: var(--fill-color);\n",
              "    }\n",
              "    20% {\n",
              "      border-color: transparent;\n",
              "      border-left-color: var(--fill-color);\n",
              "      border-top-color: var(--fill-color);\n",
              "    }\n",
              "    30% {\n",
              "      border-color: transparent;\n",
              "      border-left-color: var(--fill-color);\n",
              "      border-top-color: var(--fill-color);\n",
              "      border-right-color: var(--fill-color);\n",
              "    }\n",
              "    40% {\n",
              "      border-color: transparent;\n",
              "      border-right-color: var(--fill-color);\n",
              "      border-top-color: var(--fill-color);\n",
              "    }\n",
              "    60% {\n",
              "      border-color: transparent;\n",
              "      border-right-color: var(--fill-color);\n",
              "    }\n",
              "    80% {\n",
              "      border-color: transparent;\n",
              "      border-right-color: var(--fill-color);\n",
              "      border-bottom-color: var(--fill-color);\n",
              "    }\n",
              "    90% {\n",
              "      border-color: transparent;\n",
              "      border-bottom-color: var(--fill-color);\n",
              "    }\n",
              "  }\n",
              "</style>\n",
              "\n",
              "      <script>\n",
              "        async function quickchart(key) {\n",
              "          const quickchartButtonEl =\n",
              "            document.querySelector('#' + key + ' button');\n",
              "          quickchartButtonEl.disabled = true;  // To prevent multiple clicks.\n",
              "          quickchartButtonEl.classList.add('colab-df-spinner');\n",
              "          try {\n",
              "            const charts = await google.colab.kernel.invokeFunction(\n",
              "                'suggestCharts', [key], {});\n",
              "          } catch (error) {\n",
              "            console.error('Error during call to suggestCharts:', error);\n",
              "          }\n",
              "          quickchartButtonEl.classList.remove('colab-df-spinner');\n",
              "          quickchartButtonEl.classList.add('colab-df-quickchart-complete');\n",
              "        }\n",
              "        (() => {\n",
              "          let quickchartButtonEl =\n",
              "            document.querySelector('#df-306d7245-521d-4bbb-8131-fb8734b09df4 button');\n",
              "          quickchartButtonEl.style.display =\n",
              "            google.colab.kernel.accessAllowed ? 'block' : 'none';\n",
              "        })();\n",
              "      </script>\n",
              "    </div>\n",
              "\n",
              "    </div>\n",
              "  </div>\n"
            ],
            "application/vnd.google.colaboratory.intrinsic+json": {
              "type": "dataframe",
              "summary": "{\n  \"name\": \"df\",\n  \"rows\": 8,\n  \"fields\": [\n    {\n      \"column\": \"age\",\n      \"properties\": {\n        \"dtype\": \"number\",\n        \"std\": 1584.5005187593335,\n        \"min\": 10.576210958711275,\n        \"max\": 4521.0,\n        \"num_unique_values\": 8,\n        \"samples\": [\n          41.17009511170095,\n          39.0,\n          4521.0\n        ],\n        \"semantic_type\": \"\",\n        \"description\": \"\"\n      }\n    },\n    {\n      \"column\": \"balance\",\n      \"properties\": {\n        \"dtype\": \"number\",\n        \"std\": 24888.383236495756,\n        \"min\": -3313.0,\n        \"max\": 71188.0,\n        \"num_unique_values\": 8,\n        \"samples\": [\n          1422.6578190665782,\n          444.0,\n          4521.0\n        ],\n        \"semantic_type\": \"\",\n        \"description\": \"\"\n      }\n    },\n    {\n      \"column\": \"day\",\n      \"properties\": {\n        \"dtype\": \"number\",\n        \"std\": 1593.2804371891702,\n        \"min\": 1.0,\n        \"max\": 4521.0,\n        \"num_unique_values\": 8,\n        \"samples\": [\n          15.915284229152842,\n          16.0,\n          4521.0\n        ],\n        \"semantic_type\": \"\",\n        \"description\": \"\"\n      }\n    },\n    {\n      \"column\": \"duration\",\n      \"properties\": {\n        \"dtype\": \"number\",\n        \"std\": 1708.6796355771266,\n        \"min\": 4.0,\n        \"max\": 4521.0,\n        \"num_unique_values\": 8,\n        \"samples\": [\n          263.96129174961294,\n          185.0,\n          4521.0\n        ],\n        \"semantic_type\": \"\",\n        \"description\": \"\"\n      }\n    },\n    {\n      \"column\": \"campaign\",\n      \"properties\": {\n        \"dtype\": \"number\",\n        \"std\": 1595.325857264553,\n        \"min\": 1.0,\n        \"max\": 4521.0,\n        \"num_unique_values\": 7,\n        \"samples\": [\n          4521.0,\n          2.793629727936297,\n          3.0\n        ],\n        \"semantic_type\": \"\",\n        \"description\": \"\"\n      }\n    },\n    {\n      \"column\": \"pdays\",\n      \"properties\": {\n        \"dtype\": \"number\",\n        \"std\": 1576.1616454112598,\n        \"min\": -1.0,\n        \"max\": 4521.0,\n        \"num_unique_values\": 5,\n        \"samples\": [\n          39.766644547666445,\n          871.0,\n          100.12112444301867\n        ],\n        \"semantic_type\": \"\",\n        \"description\": \"\"\n      }\n    },\n    {\n      \"column\": \"previous\",\n      \"properties\": {\n        \"dtype\": \"number\",\n        \"std\": 1597.062601097659,\n        \"min\": 0.0,\n        \"max\": 4521.0,\n        \"num_unique_values\": 5,\n        \"samples\": [\n          0.5425790754257908,\n          25.0,\n          1.6935623506071464\n        ],\n        \"semantic_type\": \"\",\n        \"description\": \"\"\n      }\n    }\n  ]\n}"
            }
          },
          "metadata": {},
          "execution_count": 11
        }
      ],
      "source": [
        "df.describe()"
      ]
    },
    {
      "cell_type": "code",
      "execution_count": null,
      "metadata": {
        "colab": {
          "base_uri": "https://localhost:8080/",
          "height": 957
        },
        "id": "YcpFAsxK75Yu",
        "outputId": "b8a8e049-ec7d-41ec-d49a-90fc53cfef2a"
      },
      "outputs": [
        {
          "output_type": "display_data",
          "data": {
            "text/plain": [
              "<Figure size 2000x1500 with 9 Axes>"
            ],
            "image/png": "[encoded data removed]"
          },
          "metadata": {}
        }
      ],
      "source": [
        "df.hist(bins=50, figsize=(20,15))\n",
        "plt.show()"
      ]
    },
    {
      "cell_type": "code",
      "execution_count": null,
      "metadata": {
        "id": "uZJEwH4R94Rt"
      },
      "outputs": [],
      "source": [
        "from sklearn.model_selection import train_test_split\n",
        "\n",
        "train_set, test_set = train_test_split(df, test_size=0.2, random_state=42)"
      ]
    },
    {
      "cell_type": "code",
      "execution_count": null,
      "metadata": {
        "colab": {
          "base_uri": "https://localhost:8080/"
        },
        "id": "JAwie8Ox-QxK",
        "outputId": "8508c3cc-1d8d-4448-b13d-23f65c8497d6"
      },
      "outputs": [
        {
          "output_type": "stream",
          "name": "stdout",
          "text": [
            "(3616, 17)\n",
            "(905, 17)\n"
          ]
        }
      ],
      "source": [
        "print(train_set.shape)\n",
        "print(test_set.shape)"
      ]
    },
    {
      "cell_type": "code",
      "execution_count": null,
      "metadata": {
        "colab": {
          "base_uri": "https://localhost:8080/"
        },
        "id": "iy9DN_pR-WB-",
        "outputId": "ab278ae9-abbe-41c0-feda-dafec41b89f0"
      },
      "outputs": [
        {
          "output_type": "stream",
          "name": "stdout",
          "text": [
            "y\n",
            "no     0.88302\n",
            "yes    0.11698\n",
            "Name: proportion, dtype: float64\n",
            "y\n",
            "no     0.891713\n",
            "yes    0.108287\n",
            "Name: proportion, dtype: float64\n"
          ]
        }
      ],
      "source": [
        "print(train_set['y'].value_counts(normalize=True))\n",
        "print(test_set['y'].value_counts(normalize=True))"
      ]
    },
    {
      "cell_type": "code",
      "execution_count": null,
      "metadata": {
        "colab": {
          "base_uri": "https://localhost:8080/"
        },
        "id": "pXAFYCvJH53A",
        "outputId": "7aa38937-1271-42c7-fa06-543440ea460c"
      },
      "outputs": [
        {
          "output_type": "stream",
          "name": "stdout",
          "text": [
            "age: 0 unknown(s)\n",
            "job: 32 unknown(s)\n",
            "marital: 0 unknown(s)\n",
            "education: 150 unknown(s)\n",
            "default: 0 unknown(s)\n",
            "balance: 0 unknown(s)\n",
            "housing: 0 unknown(s)\n",
            "loan: 0 unknown(s)\n",
            "contact: 1050 unknown(s)\n",
            "day: 0 unknown(s)\n",
            "month: 0 unknown(s)\n",
            "duration: 0 unknown(s)\n",
            "campaign: 0 unknown(s)\n",
            "pdays: 0 unknown(s)\n",
            "previous: 0 unknown(s)\n",
            "poutcome: 2964 unknown(s)\n",
            "y: 0 unknown(s)\n"
          ]
        }
      ],
      "source": [
        "for col in train_set.columns:\n",
        "    count = (train_set[col] == 'unknown').sum()\n",
        "    print(f\"{col}: {count} unknown(s)\")"
      ]
    },
    {
      "cell_type": "code",
      "execution_count": null,
      "metadata": {
        "colab": {
          "base_uri": "https://localhost:8080/"
        },
        "id": "WbMWaPU2In8v",
        "outputId": "5f2a75d0-6dce-40c6-f7d9-426da4da3564"
      },
      "outputs": [
        {
          "output_type": "stream",
          "name": "stdout",
          "text": [
            "978     cellular\n",
            "251     cellular\n",
            "3139    cellular\n",
            "1822    cellular\n",
            "4445     unknown\n",
            "3159    cellular\n",
            "4299    cellular\n",
            "2063    cellular\n",
            "3815    cellular\n",
            "2185    cellular\n",
            "Name: contact, dtype: object\n"
          ]
        }
      ],
      "source": [
        "print(train_set['contact'].head(10))"
      ]
    },
    {
      "cell_type": "code",
      "execution_count": null,
      "metadata": {
        "colab": {
          "base_uri": "https://localhost:8080/"
        },
        "id": "S__8x2awJHlw",
        "outputId": "dcbf8e48-5b61-4ee3-a128-77f7409c842f"
      },
      "outputs": [
        {
          "output_type": "stream",
          "name": "stdout",
          "text": [
            "contact\n",
            "cellular     2325\n",
            "unknown      1050\n",
            "telephone     241\n",
            "Name: count, dtype: int64\n"
          ]
        }
      ],
      "source": [
        "print(train_set['contact'].value_counts())"
      ]
    },
    {
      "cell_type": "markdown",
      "metadata": {
        "id": "GB0lPPXFQx50"
      },
      "source": [
        "### Prepare the Data for Machine Learning Algorithms\n"
      ]
    },
    {
      "cell_type": "code",
      "execution_count": null,
      "metadata": {
        "id": "bgHCbgegRDWf"
      },
      "outputs": [],
      "source": [
        "bank = train_set.drop([\"y\", \"duration\"],axis=1)\n",
        "bank_labels = train_set[\"y\"].copy()"
      ]
    },
    {
      "cell_type": "code",
      "source": [
        "bank_test = test_set.drop([\"y\", \"duration\"],axis=1)\n",
        "bank_labels_test = test_set[\"y\"]"
      ],
      "metadata": {
        "id": "G6LCBUXuUiQg"
      },
      "execution_count": null,
      "outputs": []
    },
    {
      "cell_type": "code",
      "source": [
        "bank_labels_test = bank_labels_test.map({'no': 0, 'yes': 1})"
      ],
      "metadata": {
        "id": "2VL03ysXZRHF"
      },
      "execution_count": null,
      "outputs": []
    },
    {
      "cell_type": "code",
      "execution_count": null,
      "metadata": {
        "colab": {
          "base_uri": "https://localhost:8080/"
        },
        "id": "8jgZ1NOORR0M",
        "outputId": "a17d45a7-53c7-455d-e931-5ded76501895"
      },
      "outputs": [
        {
          "output_type": "stream",
          "name": "stdout",
          "text": [
            "      age            job   marital  education default  balance housing loan  \\\n",
            "978    34   entrepreneur  divorced   tertiary      no      262      no   no   \n",
            "251    32     management   married   tertiary      no     2349      no   no   \n",
            "3139   34     technician    single  secondary      no     1076      no   no   \n",
            "1822   31     management   married   tertiary      no      156      no   no   \n",
            "4445   46    blue-collar   married    primary      no      258     yes   no   \n",
            "...   ...            ...       ...        ...     ...      ...     ...  ...   \n",
            "4426   41         admin.   married   tertiary      no     1536      no   no   \n",
            "466    34  self-employed   married  secondary      no     -370     yes   no   \n",
            "3092   46     management   married   tertiary      no      523     yes   no   \n",
            "3772   47     management    single   tertiary      no      440      no   no   \n",
            "860    58    blue-collar   married    primary      no      309      no   no   \n",
            "\n",
            "       contact  day month  campaign  pdays  previous poutcome  \n",
            "978   cellular   20   nov         1     -1         0  unknown  \n",
            "251   cellular   14   aug         5     -1         0  unknown  \n",
            "3139  cellular    8   aug         2     -1         0  unknown  \n",
            "1822  cellular   13   aug         7     -1         0  unknown  \n",
            "4445   unknown   27   may         1     -1         0  unknown  \n",
            "...        ...  ...   ...       ...    ...       ...      ...  \n",
            "4426  cellular    4   may         2     -1         0  unknown  \n",
            "466    unknown   21   may         1     -1         0  unknown  \n",
            "3092  cellular    6   may         4    366         2  failure  \n",
            "3772  cellular   21   aug         4     -1         0  unknown  \n",
            "860   cellular   19   aug         2     -1         0  unknown  \n",
            "\n",
            "[3616 rows x 15 columns]\n"
          ]
        }
      ],
      "source": [
        "print(bank)"
      ]
    },
    {
      "cell_type": "code",
      "execution_count": null,
      "metadata": {
        "colab": {
          "base_uri": "https://localhost:8080/",
          "height": 241
        },
        "id": "LdIYH2Vpa-KB",
        "outputId": "7067685b-060b-40af-bcd8-4a2248959594"
      },
      "outputs": [
        {
          "output_type": "execute_result",
          "data": {
            "text/plain": [
              "poutcome\n",
              "unknown    2964\n",
              "failure     388\n",
              "other       158\n",
              "success     106\n",
              "Name: count, dtype: int64"
            ],
            "text/html": [
              "<div>\n",
              "<style scoped>\n",
              "    .dataframe tbody tr th:only-of-type {\n",
              "        vertical-align: middle;\n",
              "    }\n",
              "\n",
              "    .dataframe tbody tr th {\n",
              "        vertical-align: top;\n",
              "    }\n",
              "\n",
              "    .dataframe thead th {\n",
              "        text-align: right;\n",
              "    }\n",
              "</style>\n",
              "<table border=\"1\" class=\"dataframe\">\n",
              "  <thead>\n",
              "    <tr style=\"text-align: right;\">\n",
              "      <th></th>\n",
              "      <th>count</th>\n",
              "    </tr>\n",
              "    <tr>\n",
              "      <th>poutcome</th>\n",
              "      <th></th>\n",
              "    </tr>\n",
              "  </thead>\n",
              "  <tbody>\n",
              "    <tr>\n",
              "      <th>unknown</th>\n",
              "      <td>2964</td>\n",
              "    </tr>\n",
              "    <tr>\n",
              "      <th>failure</th>\n",
              "      <td>388</td>\n",
              "    </tr>\n",
              "    <tr>\n",
              "      <th>other</th>\n",
              "      <td>158</td>\n",
              "    </tr>\n",
              "    <tr>\n",
              "      <th>success</th>\n",
              "      <td>106</td>\n",
              "    </tr>\n",
              "  </tbody>\n",
              "</table>\n",
              "</div><br><label><b>dtype:</b> int64</label>"
            ]
          },
          "metadata": {},
          "execution_count": 23
        }
      ],
      "source": [
        "bank['poutcome'].value_counts()"
      ]
    },
    {
      "cell_type": "code",
      "execution_count": null,
      "metadata": {
        "colab": {
          "base_uri": "https://localhost:8080/"
        },
        "id": "gWENoaJ5RY52",
        "outputId": "bff199ec-9794-4ed9-a401-9eb5301c42d7"
      },
      "outputs": [
        {
          "output_type": "stream",
          "name": "stdout",
          "text": [
            "978      no\n",
            "251      no\n",
            "3139     no\n",
            "1822    yes\n",
            "4445     no\n",
            "       ... \n",
            "4426     no\n",
            "466      no\n",
            "3092     no\n",
            "3772     no\n",
            "860      no\n",
            "Name: y, Length: 3616, dtype: object\n"
          ]
        }
      ],
      "source": [
        "print(bank_labels)"
      ]
    },
    {
      "cell_type": "markdown",
      "metadata": {
        "id": "qXfAMLpARn1Q"
      },
      "source": [
        "### Data Cleaning"
      ]
    },
    {
      "cell_type": "markdown",
      "metadata": {
        "id": "G_8LdqwAqJ38"
      },
      "source": [
        "Handling numerical attributes"
      ]
    },
    {
      "cell_type": "code",
      "execution_count": null,
      "metadata": {
        "colab": {
          "base_uri": "https://localhost:8080/"
        },
        "id": "dTlQ8XWMRr9J",
        "outputId": "6ad4ac9c-816d-4ace-cfef-ad55e5ec564e"
      },
      "outputs": [
        {
          "output_type": "execute_result",
          "data": {
            "text/plain": [
              "Index(['age', 'balance', 'day', 'campaign', 'pdays', 'previous'], dtype='object')"
            ]
          },
          "metadata": {},
          "execution_count": 25
        }
      ],
      "source": [
        "bank_num = bank.select_dtypes(include=[np.number])\n",
        "bank_num.columns"
      ]
    },
    {
      "cell_type": "code",
      "execution_count": null,
      "metadata": {
        "colab": {
          "base_uri": "https://localhost:8080/"
        },
        "id": "SZwvhs8xZmcH",
        "outputId": "169d14f4-5f67-468b-a5af-c3a65f736da5"
      },
      "outputs": [
        {
          "output_type": "stream",
          "name": "stdout",
          "text": [
            "<class 'pandas.core.frame.DataFrame'>\n",
            "Index: 3616 entries, 978 to 860\n",
            "Data columns (total 6 columns):\n",
            " #   Column    Non-Null Count  Dtype\n",
            "---  ------    --------------  -----\n",
            " 0   age       3616 non-null   int64\n",
            " 1   balance   3616 non-null   int64\n",
            " 2   day       3616 non-null   int64\n",
            " 3   campaign  3616 non-null   int64\n",
            " 4   pdays     3616 non-null   int64\n",
            " 5   previous  3616 non-null   int64\n",
            "dtypes: int64(6)\n",
            "memory usage: 197.8 KB\n"
          ]
        }
      ],
      "source": [
        "bank_num.info()"
      ]
    },
    {
      "cell_type": "code",
      "execution_count": null,
      "metadata": {
        "colab": {
          "base_uri": "https://localhost:8080/"
        },
        "id": "ySfcv0KyYHVy",
        "outputId": "9a244acb-5744-4ff8-be27-d2a8e9c6f0c1"
      },
      "outputs": [
        {
          "output_type": "stream",
          "name": "stdout",
          "text": [
            "               age       balance          day     campaign        pdays  \\\n",
            "count  3616.000000   3616.000000  3616.000000  3616.000000  3616.000000   \n",
            "mean     41.229812   1415.979535    15.962942     2.832135    39.177268   \n",
            "std      10.659083   2789.095311     8.240591     3.230350    98.286998   \n",
            "min      19.000000  -1746.000000     1.000000     1.000000    -1.000000   \n",
            "25%      33.000000     67.000000     9.000000     1.000000    -1.000000   \n",
            "50%      39.000000    453.500000    16.000000     2.000000    -1.000000   \n",
            "75%      49.000000   1500.000000    21.000000     3.000000    -1.000000   \n",
            "max      87.000000  27359.000000    31.000000    50.000000   871.000000   \n",
            "\n",
            "          previous  \n",
            "count  3616.000000  \n",
            "mean      0.543695  \n",
            "std       1.728541  \n",
            "min       0.000000  \n",
            "25%       0.000000  \n",
            "50%       0.000000  \n",
            "75%       0.000000  \n",
            "max      25.000000  \n"
          ]
        }
      ],
      "source": [
        "print(bank_num.describe())"
      ]
    },
    {
      "cell_type": "code",
      "execution_count": null,
      "metadata": {
        "colab": {
          "base_uri": "https://localhost:8080/",
          "height": 957
        },
        "id": "gLZ5_qSGb18y",
        "outputId": "12fe4f34-6b25-4d3f-f287-dcc1ed1f7469"
      },
      "outputs": [
        {
          "output_type": "display_data",
          "data": {
            "text/plain": [
              "<Figure size 2000x1500 with 6 Axes>"
            ],
            "image/png": "[encoded data removed]"
          },
          "metadata": {}
        }
      ],
      "source": [
        "bank_num.hist(bins=50, figsize=(20,15))\n",
        "plt.show()"
      ]
    },
    {
      "cell_type": "code",
      "execution_count": null,
      "metadata": {
        "id": "V9K_KazQbzyf"
      },
      "outputs": [],
      "source": [
        "bank_num['pdays'] = np.where(bank_num['pdays'] == -1, 0, bank_num['pdays'])\n"
      ]
    },
    {
      "cell_type": "code",
      "execution_count": null,
      "metadata": {
        "id": "DoZxtwpXdFCy"
      },
      "outputs": [],
      "source": [
        "# # Shift balance to be positive\n",
        "# bank_num['balance_shifted'] = bank_num['balance'] - bank_num['balance'].min()\n",
        "\n",
        "# logged = ['balance_shifted', 'campaign', 'previous']\n",
        "\n",
        "# # Then apply log1p\n",
        "# bank_num['balance'] = np.log1p(bank_num['balance_shifted'])\n",
        "# bank_num['campaign'] = np.log1p(bank_num['campaign'])\n",
        "# bank_num['previous'] = np.log1p(bank_num['previous'])\n",
        "\n",
        "# bank_num.drop('balance_shifted', axis=1, inplace=True)\n",
        "\n",
        "# original_columns = bank_num.columns\n",
        "# original_index = bank_num.index\n",
        "\n",
        "# bank_num = pd.DataFrame(logged, columns=original_columns,\n",
        "# index=original_index)"
      ]
    },
    {
      "cell_type": "code",
      "execution_count": null,
      "metadata": {
        "id": "dbCd15oWpU5Q"
      },
      "outputs": [],
      "source": [
        "# 1. Shift balance to be positive\n",
        "bank_num['balance_shifted'] = bank_num['balance'] - bank_num['balance'].min()\n",
        "\n",
        "# 2. Apply log1p to the shifted balance\n",
        "bank_num['balance'] = np.log1p(bank_num['balance_shifted'])\n",
        "\n",
        "# 3. Apply log1p to 'campaign' and 'previous'\n",
        "for col in ['campaign', 'previous']:\n",
        "    bank_num[col] = np.log1p(bank_num[col])\n",
        "\n",
        "# 4. Drop the 'balance_shifted' column if you don't need it anymore\n",
        "bank_num.drop('balance_shifted', axis=1, inplace=True)\n"
      ]
    },
    {
      "cell_type": "code",
      "execution_count": null,
      "metadata": {
        "id": "INXVYgp6gmpq"
      },
      "outputs": [],
      "source": [
        "from sklearn.preprocessing import StandardScaler\n",
        "\n",
        "scaler = StandardScaler()\n",
        "\n",
        "\n",
        "# Apply scaler\n",
        "bank_num_scaled = scaler.fit_transform(bank_num)\n"
      ]
    },
    {
      "cell_type": "code",
      "execution_count": null,
      "metadata": {
        "id": "qW0xzCqwhZuA"
      },
      "outputs": [],
      "source": [
        "original_columns = bank_num.columns\n",
        "original_index = bank_num.index\n",
        "\n",
        "bank_num = pd.DataFrame(bank_num_scaled, columns=original_columns,\n",
        "index=original_index)"
      ]
    },
    {
      "cell_type": "code",
      "execution_count": null,
      "metadata": {
        "colab": {
          "base_uri": "https://localhost:8080/"
        },
        "id": "2UFSbolQu05o",
        "outputId": "ec06ecc8-882c-41f9-f167-e2728459cf13"
      },
      "outputs": [
        {
          "output_type": "stream",
          "name": "stdout",
          "text": [
            "Cross-tabulation of 'poutcome' and 'y':\n",
            "y           no  yes\n",
            "poutcome           \n",
            "failure    427   63\n",
            "other      159   38\n",
            "success     46   83\n",
            "unknown   3368  337\n",
            "------------------------------\n",
            "For 'poutcome' == 'success':\n",
            "  Number of 'yes': 83\n",
            "  Total number of outcomes: 129\n",
            "  Percentage of 'yes': 64.34%\n",
            "------------------------------\n",
            "Overall percentage of 'y' == 'yes' in the dataset: 11.52%\n"
          ]
        }
      ],
      "source": [
        "\n",
        "# 1. Create a cross-tabulation of 'poutcome' and 'y'\n",
        "# This shows the counts for each combination\n",
        "crosstab_poutcome_y = pd.crosstab(df['poutcome'], df['y'])\n",
        "\n",
        "print(\"Cross-tabulation of 'poutcome' and 'y':\")\n",
        "print(crosstab_poutcome_y)\n",
        "print(\"-\" * 30)\n",
        "\n",
        "# 2. Calculate the proportion of 'yes' within the 'success' poutcome category\n",
        "# Get the row for 'success'\n",
        "success_row = crosstab_poutcome_y.loc['success']\n",
        "\n",
        "# Get the count of 'yes' for success poutcome\n",
        "success_yes_count = success_row['yes']\n",
        "\n",
        "# Get the total count for success poutcome\n",
        "success_total_count = success_row.sum()\n",
        "\n",
        "# Calculate the percentage\n",
        "percentage_yes_in_success = (success_yes_count / success_total_count) * 100 if success_total_count > 0 else 0\n",
        "\n",
        "print(f\"For 'poutcome' == 'success':\")\n",
        "print(f\"  Number of 'yes': {success_yes_count}\")\n",
        "print(f\"  Total number of outcomes: {success_total_count}\")\n",
        "print(f\"  Percentage of 'yes': {percentage_yes_in_success:.2f}%\")\n",
        "print(\"-\" * 30)\n",
        "\n",
        "# 3. (Optional) Calculate the overall proportion of 'yes' in the entire dataset for comparison\n",
        "overall_yes_count = df['y'].value_counts().get('yes', 0)\n",
        "overall_total_count = len(df)\n",
        "overall_percentage_yes = (overall_yes_count / overall_total_count) * 100 if overall_total_count > 0 else 0\n",
        "\n",
        "print(f\"Overall percentage of 'y' == 'yes' in the dataset: {overall_percentage_yes:.2f}%\")"
      ]
    },
    {
      "cell_type": "code",
      "execution_count": null,
      "metadata": {
        "colab": {
          "base_uri": "https://localhost:8080/",
          "height": 699
        },
        "id": "ELgp6e-QdTwL",
        "outputId": "f4ab7cf5-e824-4b8d-c904-3cfbb883214c"
      },
      "outputs": [
        {
          "output_type": "display_data",
          "data": {
            "text/plain": [
              "<Figure size 1000x800 with 6 Axes>"
            ],
            "image/png": "[encoded data removed]"
          },
          "metadata": {}
        }
      ],
      "source": [
        "bank_num.hist(bins=50, figsize=(10,8))\n",
        "plt.show()"
      ]
    },
    {
      "cell_type": "markdown",
      "metadata": {
        "id": "PUZs_Apnqe4B"
      },
      "source": [
        "Now, lets handle categorical attributes."
      ]
    },
    {
      "cell_type": "code",
      "execution_count": null,
      "metadata": {
        "colab": {
          "base_uri": "https://localhost:8080/"
        },
        "id": "R0n-i1meqeHd",
        "outputId": "8293cb77-f3a3-4c5c-af0f-d25459c495ca"
      },
      "outputs": [
        {
          "output_type": "execute_result",
          "data": {
            "text/plain": [
              "Index(['job', 'marital', 'education', 'default', 'housing', 'loan', 'contact',\n",
              "       'month', 'poutcome'],\n",
              "      dtype='object')"
            ]
          },
          "metadata": {},
          "execution_count": 36
        }
      ],
      "source": [
        "bank_cat = bank.select_dtypes(include=['object'])\n",
        "bank_cat = bank.select_dtypes(include=['object']).copy()\n",
        "\n",
        "bank_cat.columns"
      ]
    },
    {
      "cell_type": "code",
      "execution_count": null,
      "metadata": {
        "colab": {
          "base_uri": "https://localhost:8080/"
        },
        "id": "N9w-ro62sxW4",
        "outputId": "aed60bbf-ad9a-4002-fbab-b8832dc67119"
      },
      "outputs": [
        {
          "output_type": "stream",
          "name": "stdout",
          "text": [
            "job: 32 unknown(s)\n",
            "marital: 0 unknown(s)\n",
            "education: 150 unknown(s)\n",
            "default: 0 unknown(s)\n",
            "housing: 0 unknown(s)\n",
            "loan: 0 unknown(s)\n",
            "contact: 1050 unknown(s)\n",
            "month: 0 unknown(s)\n",
            "poutcome: 2964 unknown(s)\n",
            "The nunber of rows in the above dataframe is 3616\n"
          ]
        }
      ],
      "source": [
        "for col in bank_cat.columns:\n",
        "    count = (train_set[col] == 'unknown').sum()\n",
        "    print(f\"{col}: {count} unknown(s)\")\n",
        "\n",
        "print(f'The nunber of rows in the above dataframe is {len(bank_cat)}')"
      ]
    },
    {
      "cell_type": "code",
      "execution_count": null,
      "metadata": {
        "colab": {
          "base_uri": "https://localhost:8080/"
        },
        "id": "tQfCymmNxoIA",
        "outputId": "bfcca5a4-76da-476b-cb84-e22a51cd7270"
      },
      "outputs": [
        {
          "output_type": "stream",
          "name": "stdout",
          "text": [
            "job: ['entrepreneur' 'management' 'technician' 'blue-collar' 'admin.'\n",
            " 'services' 'housemaid' 'self-employed' 'unemployed' 'student' 'retired'\n",
            " 'unknown']\n",
            "marital: ['divorced' 'married' 'single']\n",
            "education: ['tertiary' 'secondary' 'primary' 'unknown']\n",
            "default: ['no' 'yes']\n",
            "housing: ['no' 'yes']\n",
            "loan: ['no' 'yes']\n",
            "contact: ['cellular' 'unknown' 'telephone']\n",
            "month: ['nov' 'aug' 'may' 'jul' 'jun' 'oct' 'apr' 'sep' 'dec' 'feb' 'jan' 'mar']\n",
            "poutcome: ['unknown' 'failure' 'success' 'other']\n"
          ]
        }
      ],
      "source": [
        "for col in bank_cat.columns:\n",
        "    print(f'{col}: {bank_cat[col].unique()}')"
      ]
    },
    {
      "cell_type": "code",
      "execution_count": null,
      "metadata": {
        "id": "KhnKHTB2y6-f"
      },
      "outputs": [],
      "source": [
        "#Label encode small categories\n",
        "from sklearn.preprocessing import LabelEncoder\n",
        "label_encode_cols = ['marital', 'default', 'housing', 'loan']\n",
        "le = LabelEncoder()\n",
        "\n",
        "for col in label_encode_cols:\n",
        "    bank_cat[col] = le.fit_transform(bank_cat[col])"
      ]
    },
    {
      "cell_type": "code",
      "execution_count": null,
      "metadata": {
        "id": "ty50GUdFy613"
      },
      "outputs": [],
      "source": [
        "one_hot_encode_cols = ['job', 'education', 'contact', 'month', 'poutcome']\n",
        "bank_cat = pd.get_dummies(bank_cat, columns=one_hot_encode_cols)"
      ]
    },
    {
      "cell_type": "code",
      "execution_count": null,
      "metadata": {
        "colab": {
          "base_uri": "https://localhost:8080/"
        },
        "id": "b4q2Ox5u4-H2",
        "outputId": "4dca455b-88c6-4e2d-f631-f121854fde77"
      },
      "outputs": [
        {
          "output_type": "stream",
          "name": "stdout",
          "text": [
            "      education  education_encoded_ordinal\n",
            "0       primary                          0\n",
            "1     secondary                          1\n",
            "2      tertiary                          2\n",
            "3      tertiary                          2\n",
            "4     secondary                          1\n",
            "...         ...                        ...\n",
            "4516  secondary                          1\n",
            "4517   tertiary                          2\n",
            "4518  secondary                          1\n",
            "4519  secondary                          1\n",
            "4520   tertiary                          2\n",
            "\n",
            "[4521 rows x 2 columns]\n"
          ]
        }
      ],
      "source": [
        "education_mapping = {\n",
        "    'unknown': -1,  # Assign a distinct value like -1 for unknown\n",
        "    'primary': 0,\n",
        "    'secondary': 1,\n",
        "    'tertiary': 2\n",
        "}\n",
        "\n",
        "# Apply the mapping to the 'education' column\n",
        "df['education_encoded_ordinal'] = df['education'].map(education_mapping)\n",
        "\n",
        "# Check the result\n",
        "print(df[['education', 'education_encoded_ordinal']])"
      ]
    },
    {
      "cell_type": "code",
      "execution_count": null,
      "metadata": {
        "id": "IX7yx8Ddy6z0"
      },
      "outputs": [],
      "source": [
        "from sklearn.preprocessing import OneHotEncoder, OrdinalEncoder, StandardScaler\n",
        "from sklearn.preprocessing import FunctionTransformer\n",
        "from sklearn.compose import ColumnTransformer\n",
        "from sklearn.pipeline import Pipeline\n",
        "\n",
        "# Option 1: If you still want to use manual mapping\n",
        "education_preprocess = Pipeline(steps=[\n",
        "    ('ordinal', FunctionTransformer(\n",
        "        lambda x: x[['education']].apply(lambda col: col.map(education_mapping)), validate=False))\n",
        "])\n",
        "\n",
        "# --- OR --- (recommended option)\n",
        "# Option 2: Cleaner - use OrdinalEncoder directly\n",
        "education_preprocess = Pipeline(steps=[\n",
        "    ('ordinal', OrdinalEncoder(categories=[['unknown', 'primary', 'secondary', 'tertiary']]))\n",
        "])\n",
        "\n",
        "binary_preprocess = Pipeline(steps=[\n",
        "    ('ordinal', OrdinalEncoder())\n",
        "])\n",
        "\n",
        "contact_month_poutcome_marital_job_preprocess = Pipeline(steps=[\n",
        "    ('onehot', OneHotEncoder(handle_unknown='ignore', sparse_output=False))\n",
        "])\n",
        "\n",
        "num_preprocess = Pipeline(steps=[\n",
        "    ('scaler', StandardScaler())\n",
        "])\n",
        "\n",
        "preprocessor = ColumnTransformer(\n",
        "    transformers=[\n",
        "        ('education_preprocess', education_preprocess, ['education']),\n",
        "        ('binary_preprocess', binary_preprocess, ['default', 'housing', 'loan']),\n",
        "        ('contact_month_poutcome_marital_job_preprocess', contact_month_poutcome_marital_job_preprocess,\n",
        "         ['contact', 'month', 'poutcome', 'marital', 'job']),\n",
        "        ('num_preprocess', num_preprocess, ['age', 'balance', 'day', 'campaign', 'pdays', 'previous']),\n",
        "    ],\n",
        "    remainder='drop'\n",
        ")\n",
        "\n",
        "# Now fit_transform\n",
        "bank_prepared = preprocessor.fit_transform(bank)\n"
      ]
    },
    {
      "cell_type": "code",
      "execution_count": null,
      "metadata": {
        "id": "unn4YJ18y6U7"
      },
      "outputs": [],
      "source": [
        "bank_prepared = preprocessor.fit_transform(bank)\n"
      ]
    },
    {
      "cell_type": "code",
      "execution_count": null,
      "metadata": {
        "id": "luV9YX8Ry5_2",
        "colab": {
          "base_uri": "https://localhost:8080/"
        },
        "outputId": "47151b75-afb2-449e-f2f1-6ea928b09db3"
      },
      "outputs": [
        {
          "output_type": "execute_result",
          "data": {
            "text/plain": [
              "array(['education_preprocess__education', 'binary_preprocess__default',\n",
              "       'binary_preprocess__housing', 'binary_preprocess__loan',\n",
              "       'contact_month_poutcome_marital_job_preprocess__contact_cellular',\n",
              "       'contact_month_poutcome_marital_job_preprocess__contact_telephone',\n",
              "       'contact_month_poutcome_marital_job_preprocess__contact_unknown',\n",
              "       'contact_month_poutcome_marital_job_preprocess__month_apr',\n",
              "       'contact_month_poutcome_marital_job_preprocess__month_aug',\n",
              "       'contact_month_poutcome_marital_job_preprocess__month_dec',\n",
              "       'contact_month_poutcome_marital_job_preprocess__month_feb',\n",
              "       'contact_month_poutcome_marital_job_preprocess__month_jan',\n",
              "       'contact_month_poutcome_marital_job_preprocess__month_jul',\n",
              "       'contact_month_poutcome_marital_job_preprocess__month_jun',\n",
              "       'contact_month_poutcome_marital_job_preprocess__month_mar',\n",
              "       'contact_month_poutcome_marital_job_preprocess__month_may',\n",
              "       'contact_month_poutcome_marital_job_preprocess__month_nov',\n",
              "       'contact_month_poutcome_marital_job_preprocess__month_oct',\n",
              "       'contact_month_poutcome_marital_job_preprocess__month_sep',\n",
              "       'contact_month_poutcome_marital_job_preprocess__poutcome_failure',\n",
              "       'contact_month_poutcome_marital_job_preprocess__poutcome_other',\n",
              "       'contact_month_poutcome_marital_job_preprocess__poutcome_success',\n",
              "       'contact_month_poutcome_marital_job_preprocess__poutcome_unknown',\n",
              "       'contact_month_poutcome_marital_job_preprocess__marital_divorced',\n",
              "       'contact_month_poutcome_marital_job_preprocess__marital_married',\n",
              "       'contact_month_poutcome_marital_job_preprocess__marital_single',\n",
              "       'contact_month_poutcome_marital_job_preprocess__job_admin.',\n",
              "       'contact_month_poutcome_marital_job_preprocess__job_blue-collar',\n",
              "       'contact_month_poutcome_marital_job_preprocess__job_entrepreneur',\n",
              "       'contact_month_poutcome_marital_job_preprocess__job_housemaid',\n",
              "       'contact_month_poutcome_marital_job_preprocess__job_management',\n",
              "       'contact_month_poutcome_marital_job_preprocess__job_retired',\n",
              "       'contact_month_poutcome_marital_job_preprocess__job_self-employed',\n",
              "       'contact_month_poutcome_marital_job_preprocess__job_services',\n",
              "       'contact_month_poutcome_marital_job_preprocess__job_student',\n",
              "       'contact_month_poutcome_marital_job_preprocess__job_technician',\n",
              "       'contact_month_poutcome_marital_job_preprocess__job_unemployed',\n",
              "       'contact_month_poutcome_marital_job_preprocess__job_unknown',\n",
              "       'num_preprocess__age', 'num_preprocess__balance',\n",
              "       'num_preprocess__day', 'num_preprocess__campaign',\n",
              "       'num_preprocess__pdays', 'num_preprocess__previous'], dtype=object)"
            ]
          },
          "metadata": {},
          "execution_count": 44
        }
      ],
      "source": [
        "preprocessor.get_feature_names_out()\n"
      ]
    },
    {
      "cell_type": "code",
      "source": [
        "# Manual mapping (recommended for full control)\n",
        "bank_labels = bank_labels.map({'no': 0, 'yes': 1})\n"
      ],
      "metadata": {
        "id": "VXtQyyblRX7A"
      },
      "execution_count": null,
      "outputs": []
    },
    {
      "cell_type": "code",
      "source": [
        "bank_test_preprocessed = preprocessor.transform(bank_test)"
      ],
      "metadata": {
        "id": "Egf83d-0YUlS"
      },
      "execution_count": null,
      "outputs": []
    },
    {
      "cell_type": "code",
      "source": [
        "from sklearn.linear_model import LogisticRegression\n",
        "from sklearn.metrics import accuracy_score\n",
        "\n",
        "\n",
        "log_reg = LogisticRegression()\n",
        "log_reg.fit(bank_prepared, bank_labels)  # Fit the Logistic Regression model to the training data\n",
        "\n",
        "bank_test_preprocessed = preprocessor.transform(bank_test)\n",
        "\n",
        "# Make predictions on the test set\n",
        "log_reg_predictions = log_reg.predict(bank_test_preprocessed)  # Make predictions using the test set (features)\n",
        "\n",
        "\n",
        "log_reg_accuracy = accuracy_score(bank_labels_test, log_reg_predictions)  # Compare predictions to the true test labels\n",
        "\n",
        "print(f\"Logistic Regression Accuracy: {log_reg_accuracy:.2f}\")\n"
      ],
      "metadata": {
        "colab": {
          "base_uri": "https://localhost:8080/"
        },
        "id": "tuyZm_ICX7xf",
        "outputId": "abcebdcc-e146-4378-c086-109abfd59ab5"
      },
      "execution_count": null,
      "outputs": [
        {
          "output_type": "stream",
          "name": "stdout",
          "text": [
            "Logistic Regression Accuracy: 0.90\n"
          ]
        }
      ]
    },
    {
      "cell_type": "code",
      "source": [
        "kn = KNeighborsClassifier()\n",
        "kn.fit(bank_prepared, bank_labels)\n",
        "\n",
        "bank_test_preprocessed = preprocessor.transform(bank_test)\n",
        "\n",
        "# Make predictions on the test set\n",
        "kn_predictions = kn.predict(bank_test_preprocessed)  # Make predictions using the test set (features)\n",
        "\n",
        "\n",
        "kn_accuracy = accuracy_score(bank_labels_test, kn_predictions)  # Compare predictions to the true test labels\n",
        "\n",
        "print(f\"KNeighborsClassifier Accuracy: {kn_accuracy:.2f}\")\n"
      ],
      "metadata": {
        "colab": {
          "base_uri": "https://localhost:8080/"
        },
        "id": "doizMmDzTqvM",
        "outputId": "4a403776-d3e4-4ac5-9d49-1c3f49188d08"
      },
      "execution_count": null,
      "outputs": [
        {
          "output_type": "stream",
          "name": "stdout",
          "text": [
            "KNeighborsClassifier Accuracy: 0.89\n"
          ]
        }
      ]
    },
    {
      "cell_type": "code",
      "source": [
        "\n",
        "rf = RandomForestClassifier()\n",
        "rf.fit(bank_prepared, bank_labels)  # Fit the Logistic Regression model to the training data\n",
        "\n",
        "bank_test_preprocessed = preprocessor.transform(bank_test)\n",
        "\n",
        "# Make predictions on the test set\n",
        "rf_predictions = rf.predict(bank_test_preprocessed)   # Make predictions using the test set (features)\n",
        "\n",
        "\n",
        "rf_accuracy = accuracy_score(bank_labels_test, rf_predictions)\n",
        "\n",
        "print(f\"Random forest Accuracy: {rf_accuracy:.2f}\")\n"
      ],
      "metadata": {
        "colab": {
          "base_uri": "https://localhost:8080/"
        },
        "id": "I08O5vAkTqaq",
        "outputId": "e984d70b-a8a1-420c-a184-2ec42a9b3d34"
      },
      "execution_count": null,
      "outputs": [
        {
          "output_type": "stream",
          "name": "stdout",
          "text": [
            "Random forest Accuracy: 0.90\n"
          ]
        }
      ]
    },
    {
      "cell_type": "code",
      "source": [
        "!pip install xgboost\n"
      ],
      "metadata": {
        "colab": {
          "base_uri": "https://localhost:8080/"
        },
        "id": "V-LfZ81KobxA",
        "outputId": "dd3f1605-741c-4fe4-8b31-71e996bc643f"
      },
      "execution_count": null,
      "outputs": [
        {
          "output_type": "stream",
          "name": "stdout",
          "text": [
            "Requirement already satisfied: xgboost in /usr/local/lib/python3.11/dist-packages (2.1.4)\n",
            "Requirement already satisfied: numpy in /usr/local/lib/python3.11/dist-packages (from xgboost) (2.0.2)\n",
            "Requirement already satisfied: nvidia-nccl-cu12 in /usr/local/lib/python3.11/dist-packages (from xgboost) (2.21.5)\n",
            "Requirement already satisfied: scipy in /usr/local/lib/python3.11/dist-packages (from xgboost) (1.14.1)\n"
          ]
        }
      ]
    },
    {
      "cell_type": "code",
      "execution_count": null,
      "metadata": {
        "id": "yY_jVv5cy5zq",
        "colab": {
          "base_uri": "https://localhost:8080/"
        },
        "outputId": "fc3f7927-3caf-4537-eac3-45bc95963ca5"
      },
      "outputs": [
        {
          "output_type": "stream",
          "name": "stdout",
          "text": [
            "xgboost Accuracy: 0.89\n"
          ]
        }
      ],
      "source": [
        "import xgboost as xgb\n",
        "\n",
        "\n",
        "xgb = xgb.XGBClassifier()\n",
        "xgb.fit(bank_prepared, bank_labels)\n",
        "\n",
        "bank_test_preprocessed = preprocessor.transform(bank_test)\n",
        "\n",
        "# Make predictions on the test set\n",
        "xgb_predictions = xgb.predict(bank_test_preprocessed)   # Make predictions using the test set (features)\n",
        "\n",
        "\n",
        "xgb_accuracy = accuracy_score(bank_labels_test, xgb_predictions)\n",
        "print(f\"xgboost Accuracy: {xgb_accuracy:.2f}\")\n"
      ]
    },
    {
      "cell_type": "code",
      "execution_count": null,
      "metadata": {
        "id": "usrXSVC2y5xf",
        "colab": {
          "base_uri": "https://localhost:8080/"
        },
        "outputId": "cf46e871-df6d-4db3-eb60-48607fc589ee"
      },
      "outputs": [
        {
          "output_type": "stream",
          "name": "stdout",
          "text": [
            "Cross-validation scores: [0.89226519 0.89488243 0.88381743 0.8824343  0.89349931]\n",
            "Mean CV score: 0.89\n"
          ]
        }
      ],
      "source": [
        "from sklearn.model_selection import cross_val_score\n",
        "\n",
        "# Perform 5-fold cross-validation\n",
        "cv_scores = cross_val_score(log_reg, bank_prepared, bank_labels, cv=5)\n",
        "\n",
        "# Print the cross-validation scores\n",
        "print(f\"Cross-validation scores: {cv_scores}\")\n",
        "print(f\"Mean CV score: {cv_scores.mean():.2f}\")\n"
      ]
    },
    {
      "cell_type": "code",
      "execution_count": null,
      "metadata": {
        "id": "FvHj0WLJy5id",
        "colab": {
          "base_uri": "https://localhost:8080/"
        },
        "outputId": "f4ac84af-274e-4a81-9aa5-100741a37779"
      },
      "outputs": [
        {
          "output_type": "stream",
          "name": "stdout",
          "text": [
            "Cross-validation scores: [0.88259669 0.8824343  0.86998617 0.87136929 0.88658368]\n",
            "Mean CV score: 0.88\n"
          ]
        }
      ],
      "source": [
        "from sklearn.model_selection import cross_val_score\n",
        "\n",
        "# Perform 5-fold cross-validation\n",
        "cv_scores = cross_val_score(xgb, bank_prepared, bank_labels, cv=5)\n",
        "\n",
        "# Print the cross-validation scores\n",
        "print(f\"Cross-validation scores: {cv_scores}\")\n",
        "print(f\"Mean CV score: {cv_scores.mean():.2f}\")\n"
      ]
    },
    {
      "cell_type": "code",
      "execution_count": null,
      "metadata": {
        "id": "43vxq6Ioy5Yx",
        "colab": {
          "base_uri": "https://localhost:8080/"
        },
        "outputId": "e297cff8-a3ff-4590-fe7f-6ed796995330"
      },
      "outputs": [
        {
          "output_type": "stream",
          "name": "stdout",
          "text": [
            "Cross-validation scores: [0.90055249 0.8839779  0.87845304 0.89502762 0.8839779 ]\n",
            "Mean CV score: 0.89\n"
          ]
        }
      ],
      "source": [
        "from sklearn.model_selection import cross_val_score\n",
        "\n",
        "# Perform 5-fold cross-validation\n",
        "cv_scores = cross_val_score(log_reg, bank_test_preprocessed, bank_labels_test, cv=5)\n",
        "\n",
        "# Print the cross-validation scores\n",
        "print(f\"Cross-validation scores: {cv_scores}\")\n",
        "print(f\"Mean CV score: {cv_scores.mean():.2f}\")\n"
      ]
    }
  ],
  "metadata": {
    "colab": {
      "provenance": []
    },
    "kernelspec": {
      "display_name": "Python 3",
      "name": "python3"
    },
    "language_info": {
      "name": "python"
    }
  },
  "nbformat": 4,
  "nbformat_minor": 0
}